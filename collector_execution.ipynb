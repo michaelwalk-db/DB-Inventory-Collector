{
 "cells": [
  {
   "cell_type": "markdown",
   "metadata": {
    "application/vnd.databricks.v1+cell": {
     "cellMetadata": {},
     "inputWidgets": {},
     "nuid": "54e917c5-d1e6-4e16-88ac-45f199f240ba",
     "showTitle": false,
     "title": ""
    }
   },
   "source": [
    "# Inventory Collector\n",
    "Collects data on database objects (tables and views) as well as grants on those objects.\n",
    "Saves all data to a delta table"
   ]
  },
  {
   "attachments": {},
   "cell_type": "markdown",
   "metadata": {},
   "source": [
    "# Initialization\n",
    "You will have to run both of these code cells in this section each time you reconnect to the cluster.\n",
    "\n",
    "Note: The usage of \"from ... import\" works expects a single .py file, as included from github.\n",
    "If you are not using github repos, create a notebook with the DbInventoryCollector.py file's contents in it, and change this line to read:\n",
    "\n",
    "```%run ./DB-Inventory-Collector```"
   ]
  },
  {
   "cell_type": "code",
   "execution_count": null,
   "metadata": {
    "application/vnd.databricks.v1+cell": {
     "cellMetadata": {
      "byteLimit": 2048000,
      "rowLimit": 10000
     },
     "inputWidgets": {},
     "nuid": "fa5ee101-0a71-4cbb-a4f4-4c253c3b79d1",
     "showTitle": false,
     "title": ""
    }
   },
   "outputs": [],
   "source": [
    "from DbInventoryCollector import InventoryCollector"
   ]
  },
  {
   "cell_type": "code",
   "execution_count": null,
   "metadata": {
    "application/vnd.databricks.v1+cell": {
     "cellMetadata": {
      "byteLimit": 2048000,
      "rowLimit": 10000
     },
     "inputWidgets": {},
     "nuid": "e0f1dfa6-2da4-4b3f-851d-1bffc1e6a71a",
     "showTitle": false,
     "title": ""
    }
   },
   "outputs": [],
   "source": [
    "#Create Widgets\n",
    "InventoryCollector.CreateWidgets(dbutils, spark, reset=False)\n",
    "\n",
    "#Instantiate and initialize collector class\n",
    "collector = InventoryCollector(spark, dbutils.widgets.get(\"Inventory_Catalog\"), dbutils.widgets.get(\"Inventory_Database\"))\n",
    "collector.initialize()\n",
    "\n",
    "#This pulls out the widget values to a python variable.\n",
    "#Paste these lines into a cell to enable automatic execution on widget change\n",
    "whichCatalog = dbutils.widgets.get(\"Scan_Catalog\")\n",
    "sourceDatabase = dbutils.widgets.get(\"Scan_Database\")"
   ]
  },
  {
   "attachments": {},
   "cell_type": "markdown",
   "metadata": {},
   "source": [
    "# Scanning Databases\n",
    "Generally you will first run these scan functions to record what objects exist."
   ]
  },
  {
   "attachments": {},
   "cell_type": "markdown",
   "metadata": {
    "application/vnd.databricks.v1+cell": {
     "cellMetadata": {},
     "inputWidgets": {},
     "nuid": "e5f98a4f-1ff7-49ee-b92d-7b505e39886a",
     "showTitle": false,
     "title": ""
    }
   },
   "source": [
    "## Scan of a single database\n",
    "Note that there are two types of scans : objects and grants.\n",
    "Each returns a pair of data: the execution id and the dataframe holding the scanned results.\n",
    "All past scans are saved to an append only table. The execution_id can help you retrieve the scan as of a certain time.\n",
    "\n",
    "With the widget code, this cell will automatically be re-run when you change the dropdown at the top."
   ]
  },
  {
   "cell_type": "code",
   "execution_count": null,
   "metadata": {
    "application/vnd.databricks.v1+cell": {
     "cellMetadata": {
      "byteLimit": 2048000,
      "rowLimit": 10000
     },
     "inputWidgets": {},
     "nuid": "ec017c2b-108e-47fd-8b0a-14ab09148b63",
     "showTitle": false,
     "title": ""
    }
   },
   "outputs": [],
   "source": [
    "(exec_id_objects, objectDF) = collector.scan_database_objects(whichCatalog, sourceDatabase)\n",
    "print(f\"Finished scanning objects for {whichCatalog}.{sourceDatabase}. ObjectExId: {exec_id_objects} \")\n",
    "display(objectDF)"
   ]
  },
  {
   "cell_type": "code",
   "execution_count": null,
   "metadata": {},
   "outputs": [],
   "source": [
    "(exec_id_grants, grantDF) = collector.scan_database_grants(whichCatalog, sourceDatabase)\n",
    "print(f\"Finished scanning grants for {whichCatalog}.{sourceDatabase}. GrantExId: {exec_id_grants}\")\n",
    "display(grantDF)"
   ]
  },
  {
   "attachments": {},
   "cell_type": "markdown",
   "metadata": {},
   "source": [
    "## Scan All Catalog Functions\n",
    "Note: this is a bit of a WIP"
   ]
  },
  {
   "cell_type": "code",
   "execution_count": null,
   "metadata": {},
   "outputs": [],
   "source": [
    "collector.scan_catalog_functions(whichCatalog)"
   ]
  },
  {
   "cell_type": "markdown",
   "metadata": {
    "application/vnd.databricks.v1+cell": {
     "cellMetadata": {},
     "inputWidgets": {},
     "nuid": "1d6680a6-9692-4238-8b0e-c41bf6ba0403",
     "showTitle": false,
     "title": ""
    }
   },
   "source": [
    "## Scan All Databases in Catalog\n",
    "Automatically list and scan all databases.\n",
    "\n",
    "**Parameters:**\n",
    "*rescan* -- If true, will re-scan a database even if inventory data already exists for it. If false, duplicate databases will be skipped. Default: False"
   ]
  },
  {
   "cell_type": "code",
   "execution_count": null,
   "metadata": {
    "application/vnd.databricks.v1+cell": {
     "cellMetadata": {
      "byteLimit": 2048000,
      "rowLimit": 10000
     },
     "inputWidgets": {},
     "nuid": "cced84cf-1c93-472d-8f9f-0b79c47e87c8",
     "showTitle": false,
     "title": ""
    }
   },
   "outputs": [],
   "source": [
    "# collector.scan_all_databases(whichCatalog, rescan = False)"
   ]
  },
  {
   "attachments": {},
   "cell_type": "markdown",
   "metadata": {
    "application/vnd.databricks.v1+cell": {
     "cellMetadata": {},
     "inputWidgets": {},
     "nuid": "313701ff-def5-46bc-a238-148cab0a4d65",
     "showTitle": false,
     "title": ""
    }
   },
   "source": [
    "# Results Inspection"
   ]
  },
  {
   "attachments": {},
   "cell_type": "markdown",
   "metadata": {
    "application/vnd.databricks.v1+cell": {
     "cellMetadata": {},
     "inputWidgets": {},
     "nuid": "6a9f783f-98af-4987-b38f-e5690cc68cf0",
     "showTitle": false,
     "title": ""
    }
   },
   "source": [
    "## Summary of past executions"
   ]
  },
  {
   "cell_type": "code",
   "execution_count": null,
   "metadata": {
    "application/vnd.databricks.v1+cell": {
     "cellMetadata": {
      "byteLimit": 2048000,
      "rowLimit": 10000
     },
     "inputWidgets": {},
     "nuid": "9d84ee29-5221-4eb5-b046-0550f329bdc0",
     "showTitle": false,
     "title": ""
    }
   },
   "outputs": [],
   "source": [
    "display(collector.get_execution_history())"
   ]
  },
  {
   "cell_type": "markdown",
   "metadata": {
    "application/vnd.databricks.v1+cell": {
     "cellMetadata": {},
     "inputWidgets": {},
     "nuid": "b75f54c2-633c-4389-a5b3-dd6d53b095eb",
     "showTitle": false,
     "title": ""
    }
   },
   "source": [
    "## Summary of all databases"
   ]
  },
  {
   "cell_type": "code",
   "execution_count": null,
   "metadata": {
    "application/vnd.databricks.v1+cell": {
     "cellMetadata": {
      "byteLimit": 2048000,
      "rowLimit": 10000
     },
     "inputWidgets": {},
     "nuid": "84182ba2-0176-4534-a0ea-2872fb4524db",
     "showTitle": false,
     "title": ""
    }
   },
   "outputs": [],
   "source": [
    "dbSummary = collector.get_database_inventory_summary(whichCatalog)\n",
    "display(dbSummary)"
   ]
  },
  {
   "attachments": {},
   "cell_type": "markdown",
   "metadata": {
    "application/vnd.databricks.v1+cell": {
     "cellMetadata": {},
     "inputWidgets": {},
     "nuid": "48339313-700d-418c-a597-2d48f4111e71",
     "showTitle": false,
     "title": ""
    }
   },
   "source": [
    "## Inspect Single Database Results\n",
    "There are two types of results stored. \"grants\" and \"objects\"."
   ]
  },
  {
   "cell_type": "code",
   "execution_count": null,
   "metadata": {
    "application/vnd.databricks.v1+cell": {
     "cellMetadata": {
      "byteLimit": 2048000,
      "rowLimit": 10000
     },
     "inputWidgets": {},
     "nuid": "3fc7bac7-fb05-4788-bc92-4653bab06d9d",
     "showTitle": false,
     "title": ""
    }
   },
   "outputs": [],
   "source": [
    "#the \"grants\" result type lists out each non-inherited grant on the database and its tables and views.\n",
    "db_grants = collector.get_last_results('grants', whichCatalog, sourceDatabase)\n",
    "display(db_grants)"
   ]
  },
  {
   "cell_type": "code",
   "execution_count": null,
   "metadata": {
    "application/vnd.databricks.v1+cell": {
     "cellMetadata": {
      "byteLimit": 2048000,
      "rowLimit": 10000
     },
     "inputWidgets": {},
     "nuid": "18855c1d-05df-40d9-afcd-f3011ad65148",
     "showTitle": false,
     "title": ""
    }
   },
   "outputs": [],
   "source": [
    "#the \"objects\" lists out each table and view, along with its type (managed, external, or view). If there was an error retrieving details, the error is stored. For a view the DDL is saved too.\n",
    "db_objects = collector.get_last_results('objects', whichCatalog, sourceDatabase)\n",
    "display(db_objects)"
   ]
  },
  {
   "cell_type": "code",
   "execution_count": null,
   "metadata": {
    "application/vnd.databricks.v1+cell": {
     "cellMetadata": {
      "byteLimit": 2048000,
      "rowLimit": 10000
     },
     "inputWidgets": {},
     "nuid": "088b35fc-9108-4588-aeed-47f0c916857a",
     "showTitle": false,
     "title": ""
    }
   },
   "outputs": [],
   "source": [
    "#You can futher aggregate the results as well\n",
    "display(db_objects.groupBy('objectType').count())"
   ]
  },
  {
   "attachments": {},
   "cell_type": "markdown",
   "metadata": {},
   "source": [
    "## Look at all collected grants using SQL"
   ]
  },
  {
   "cell_type": "code",
   "execution_count": null,
   "metadata": {},
   "outputs": [],
   "source": [
    "%sql\n",
    "WITH ranked_grants AS (\n",
    "  SELECT *,\n",
    "    RANK() OVER (PARTITION BY source_database ORDER BY execution_time DESC) as rank\n",
    "  FROM hive_metastore.databricks_inventory.grant_statements\n",
    ")\n",
    "SELECT ObjectType, ActionType, ObjectKey, Principal, grant_statement\n",
    "FROM ranked_grants\n",
    "WHERE rank = 1\n",
    "order by source_database, ObjectType, ObjectKey"
   ]
  },
  {
   "attachments": {},
   "cell_type": "markdown",
   "metadata": {},
   "source": [
    "## Look at all collected objects using SQL"
   ]
  },
  {
   "cell_type": "code",
   "execution_count": null,
   "metadata": {},
   "outputs": [],
   "source": [
    "%sql\n",
    "WITH ranked_objects AS (\n",
    "SELECT *, RANK() OVER (PARTITION BY source_catalog, source_database ORDER BY execution_time DESC) as rank\n",
    "FROM hive_metastore.databricks_inventory.db_objects\n",
    "WHERE source_catalog = 'hive_metastore'\n",
    ")\n",
    "SELECT source_catalog, source_database, `table`, errMsg, execution_time\n",
    "FROM ranked_objects\n",
    "WHERE rank = 1 and objectType = \"ERROR\"\n",
    "ORDER BY source_catalog, source_database"
   ]
  },
  {
   "attachments": {},
   "cell_type": "markdown",
   "metadata": {
    "application/vnd.databricks.v1+cell": {
     "cellMetadata": {},
     "inputWidgets": {},
     "nuid": "2e9e479e-305d-4fa8-9496-7145df4b434d",
     "showTitle": false,
     "title": ""
    }
   },
   "source": [
    "# Resetting State\n",
    "Upon making changes to the scanning code, you may need to reset the state. Uncomment the following cell to do so:"
   ]
  },
  {
   "cell_type": "code",
   "execution_count": null,
   "metadata": {
    "application/vnd.databricks.v1+cell": {
     "cellMetadata": {},
     "inputWidgets": {},
     "nuid": "f74469c5-19bb-42f6-bde3-e8c0705dab83",
     "showTitle": false,
     "title": ""
    }
   },
   "outputs": [],
   "source": [
    "# collector.resetAllData()"
   ]
  },
  {
   "attachments": {},
   "cell_type": "markdown",
   "metadata": {},
   "source": [
    "# Generating DDL"
   ]
  },
  {
   "cell_type": "code",
   "execution_count": null,
   "metadata": {},
   "outputs": [],
   "source": [
    "sourceCatalog = dbutils.widgets.get(\"Scan_Catalog\")\n",
    "selectedDatabase = dbutils.widgets.get(\"Scan_Database\")\n",
    "destCatalog = dbutils.widgets.get(\"Migration_Catalog\")\n",
    "\n",
    "(ddl_objects, ddl_grants) = collector.generate_migration_ddl(selectedDatabase, destCatalog)\n",
    "\n",
    "print(\"Finished Generation of both object and grant DDL\")\n",
    "print(';\\n\\n'.join(ddl_objects))\n",
    "print(';\\n\\n'.join(ddl_grants))"
   ]
  },
  {
   "cell_type": "code",
   "execution_count": null,
   "metadata": {},
   "outputs": [],
   "source": [
    "# Execute the above using \n",
    "# collector.execute_sql_list(ddl_objects)\n",
    "# collector.execute_sql_list(ddl_grants)"
   ]
  },
  {
   "cell_type": "code",
   "execution_count": null,
   "metadata": {},
   "outputs": [],
   "source": []
  }
 ],
 "metadata": {
  "application/vnd.databricks.v1+notebook": {
   "dashboards": [],
   "language": "python",
   "notebookMetadata": {
    "pythonIndentUnit": 4
   },
   "notebookName": "InventoryCollector Invocation",
   "notebookOrigID": 4244592547227860,
   "widgets": {}
  },
  "language_info": {
   "name": "python"
  }
 },
 "nbformat": 4,
 "nbformat_minor": 0
}
