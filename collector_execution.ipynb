{
 "cells": [
  {
   "cell_type": "markdown",
   "metadata": {
    "application/vnd.databricks.v1+cell": {
     "cellMetadata": {},
     "inputWidgets": {},
     "nuid": "54e917c5-d1e6-4e16-88ac-45f199f240ba",
     "showTitle": false,
     "title": ""
    }
   },
   "source": [
    "# Inventory Collector\n",
    "Collects data on database objects (tables and views) as well as grants on those objects.\n",
    "Saves all data to a delta table"
   ]
  },
  {
   "attachments": {},
   "cell_type": "markdown",
   "metadata": {},
   "source": [
    "# Initialization\n",
    "You will have to run all 3 code cells in this section each time you reconnect to the cluster."
   ]
  },
  {
   "cell_type": "markdown",
   "metadata": {
    "application/vnd.databricks.v1+cell": {
     "cellMetadata": {},
     "inputWidgets": {},
     "nuid": "aa117d25-74eb-4b86-bb07-69978556ea86",
     "showTitle": false,
     "title": ""
    }
   },
   "source": [
    "## Widget Setup\n",
    "This notebook uses widgets to initialize the InventoryCollector as well as help scan a particular database easily."
   ]
  },
  {
   "cell_type": "code",
   "execution_count": null,
   "metadata": {
    "application/vnd.databricks.v1+cell": {
     "cellMetadata": {
      "byteLimit": 2048000,
      "rowLimit": 10000
     },
     "inputWidgets": {},
     "nuid": "36ce1b40-d416-4ad5-8981-1622bd68dca0",
     "showTitle": false,
     "title": ""
    }
   },
   "outputs": [],
   "source": [
    "try:\n",
    "    spark.sql('use catalog hive_metastore;')\n",
    "except Exception as e:\n",
    "    pass\n",
    "\n",
    "hmsDatabaseList = [row.databaseName for row in spark.sql('show databases').select('databaseName').collect()]\n",
    "if len('hmsDatabaseList') > 1024:\n",
    "    print('Warning! More than 1024 HMS databases. Picker widget will only display first 1024')\n",
    "dbutils.widgets.dropdown(\"HMS_Database\", hmsDatabaseList[0], hmsDatabaseList[0:1023], \"HMS Database\");\n",
    "dbutils.widgets.text(\"Inventory_Catalog\",   \"hive_metastore\", \"Write Catalog for Inventory\")\n",
    "dbutils.widgets.text(\"Inventory_Database\",   \"databricks_inventory\", \"Write Database for Inventory\")\n",
    "dbutils.widgets.text(\"Migration_Catalog\", \"CATALOG_HERE\", \"Migration Target Catalog\")\n",
    "\n",
    "print(\"Database list:\\n\")\n",
    "print('\\n'.join(hmsDatabaseList))"
   ]
  },
  {
   "attachments": {},
   "cell_type": "markdown",
   "metadata": {
    "application/vnd.databricks.v1+cell": {
     "cellMetadata": {},
     "inputWidgets": {},
     "nuid": "a261f4f6-8eec-411a-b4d9-f3fc740a87d3",
     "showTitle": false,
     "title": ""
    }
   },
   "source": [
    "## Import Collector Library\n",
    "Note: The usage of \"from ... import\" works expects a single .py file, as included from github.\n",
    "If you are not using github repos, create a notebook with the DbInventoryCollector.py file's contents in it, and change this line to read:\n",
    "`%run ./DB-Inventory-Collector`"
   ]
  },
  {
   "cell_type": "code",
   "execution_count": null,
   "metadata": {
    "application/vnd.databricks.v1+cell": {
     "cellMetadata": {
      "byteLimit": 2048000,
      "rowLimit": 10000
     },
     "inputWidgets": {},
     "nuid": "fa5ee101-0a71-4cbb-a4f4-4c253c3b79d1",
     "showTitle": false,
     "title": ""
    }
   },
   "outputs": [],
   "source": [
    "from DbInventoryCollector import InventoryCollector"
   ]
  },
  {
   "attachments": {},
   "cell_type": "markdown",
   "metadata": {},
   "source": [
    "\n",
    "## Create Collector\n",
    "First, we must initialize the collector with a location to store its data. The .initialize() method will create the schemas and tables for the data to be stored inside.\n",
    "Remember you will have to re-execute this cell every time the code for InventoryCollector is updated."
   ]
  },
  {
   "cell_type": "code",
   "execution_count": null,
   "metadata": {
    "application/vnd.databricks.v1+cell": {
     "cellMetadata": {
      "byteLimit": 2048000,
      "rowLimit": 10000
     },
     "inputWidgets": {},
     "nuid": "e0f1dfa6-2da4-4b3f-851d-1bffc1e6a71a",
     "showTitle": false,
     "title": ""
    }
   },
   "outputs": [],
   "source": [
    "#Initialize InventoryCollector\n",
    "collector = InventoryCollector(spark, dbutils.widgets.get(\"Inventory_Catalog\"), dbutils.widgets.get(\"Inventory_Database\"))\n",
    "collector.initialize()\n",
    "# display(collector.get_database_inventory_summary())"
   ]
  },
  {
   "attachments": {},
   "cell_type": "markdown",
   "metadata": {
    "application/vnd.databricks.v1+cell": {
     "cellMetadata": {},
     "inputWidgets": {},
     "nuid": "1be868ad-fc24-4b36-8943-d0eff5c69795",
     "showTitle": false,
     "title": ""
    }
   },
   "source": [
    "# Collector Execution\n",
    "Here are snippets on how to use the InventoryCollector"
   ]
  },
  {
   "attachments": {},
   "cell_type": "markdown",
   "metadata": {},
   "source": [
    "## Scanning Databasees"
   ]
  },
  {
   "cell_type": "markdown",
   "metadata": {
    "application/vnd.databricks.v1+cell": {
     "cellMetadata": {},
     "inputWidgets": {},
     "nuid": "e5f98a4f-1ff7-49ee-b92d-7b505e39886a",
     "showTitle": false,
     "title": ""
    }
   },
   "source": [
    "### Scan of a single database\n",
    "Note that there are two types of scans : objects and grants.\n",
    "Each returns a pair of data: the execution id and the dataframe holding the scanned results.\n",
    "All past scans are saved to an append only table. The execution_id can help you retrieve the scan as of a certain time.\n",
    "\n",
    "With the widget code, this cell will automatically be re-run when you change the dropdown at the top."
   ]
  },
  {
   "cell_type": "code",
   "execution_count": null,
   "metadata": {
    "application/vnd.databricks.v1+cell": {
     "cellMetadata": {
      "byteLimit": 2048000,
      "rowLimit": 10000
     },
     "inputWidgets": {},
     "nuid": "ec017c2b-108e-47fd-8b0a-14ab09148b63",
     "showTitle": false,
     "title": ""
    }
   },
   "outputs": [],
   "source": [
    "whichDatabase = dbutils.widgets.get(\"HMS_Database\")\n",
    "(exec_id_objects, objectDF) = collector.scan_database_objects(whichDatabase)\n",
    "(exec_id_grants, grantDF) = collector.scan_database_grants(whichDatabase)\n",
    "\n",
    "print(f\"Finished scanning both grants and objects for {whichDatabase}. ObjectExId: {exec_id_objects} GrantExId: {exec_id_grants}\")\n",
    "\n",
    "display(objectDF)"
   ]
  },
  {
   "attachments": {},
   "cell_type": "markdown",
   "metadata": {},
   "source": [
    "### Scan All Catalog Functions\n",
    "Note: this is a bit of a WIP"
   ]
  },
  {
   "cell_type": "code",
   "execution_count": null,
   "metadata": {},
   "outputs": [],
   "source": [
    "collector.scan_catalog_functions()"
   ]
  },
  {
   "cell_type": "markdown",
   "metadata": {
    "application/vnd.databricks.v1+cell": {
     "cellMetadata": {},
     "inputWidgets": {},
     "nuid": "1d6680a6-9692-4238-8b0e-c41bf6ba0403",
     "showTitle": false,
     "title": ""
    }
   },
   "source": [
    "### Auto Scan All Databases\n",
    "Automatically list and scan all databases.\n",
    "\n",
    "**Parameters:**\n",
    "*rescan* -- If true, will re-scan a database even if inventory data already exists for it. If false, duplicate databases will be skipped. Default: False"
   ]
  },
  {
   "cell_type": "code",
   "execution_count": null,
   "metadata": {
    "application/vnd.databricks.v1+cell": {
     "cellMetadata": {
      "byteLimit": 2048000,
      "rowLimit": 10000
     },
     "inputWidgets": {},
     "nuid": "cced84cf-1c93-472d-8f9f-0b79c47e87c8",
     "showTitle": false,
     "title": ""
    }
   },
   "outputs": [],
   "source": [
    "# collector.scan_all_databases(rescan = False)"
   ]
  },
  {
   "cell_type": "markdown",
   "metadata": {
    "application/vnd.databricks.v1+cell": {
     "cellMetadata": {},
     "inputWidgets": {},
     "nuid": "313701ff-def5-46bc-a238-148cab0a4d65",
     "showTitle": false,
     "title": ""
    }
   },
   "source": [
    "## Results Inspection"
   ]
  },
  {
   "cell_type": "markdown",
   "metadata": {
    "application/vnd.databricks.v1+cell": {
     "cellMetadata": {},
     "inputWidgets": {},
     "nuid": "6a9f783f-98af-4987-b38f-e5690cc68cf0",
     "showTitle": false,
     "title": ""
    }
   },
   "source": [
    "### Summary of past executions"
   ]
  },
  {
   "cell_type": "code",
   "execution_count": null,
   "metadata": {
    "application/vnd.databricks.v1+cell": {
     "cellMetadata": {
      "byteLimit": 2048000,
      "rowLimit": 10000
     },
     "inputWidgets": {},
     "nuid": "9d84ee29-5221-4eb5-b046-0550f329bdc0",
     "showTitle": false,
     "title": ""
    }
   },
   "outputs": [],
   "source": [
    "display(collector.get_execution_history())"
   ]
  },
  {
   "cell_type": "markdown",
   "metadata": {
    "application/vnd.databricks.v1+cell": {
     "cellMetadata": {},
     "inputWidgets": {},
     "nuid": "b75f54c2-633c-4389-a5b3-dd6d53b095eb",
     "showTitle": false,
     "title": ""
    }
   },
   "source": [
    "### Summary of all databases"
   ]
  },
  {
   "cell_type": "code",
   "execution_count": null,
   "metadata": {
    "application/vnd.databricks.v1+cell": {
     "cellMetadata": {
      "byteLimit": 2048000,
      "rowLimit": 10000
     },
     "inputWidgets": {},
     "nuid": "84182ba2-0176-4534-a0ea-2872fb4524db",
     "showTitle": false,
     "title": ""
    }
   },
   "outputs": [],
   "source": [
    "dbSummary = collector.get_database_inventory_summary()\n",
    "display(dbSummary)"
   ]
  },
  {
   "cell_type": "markdown",
   "metadata": {
    "application/vnd.databricks.v1+cell": {
     "cellMetadata": {},
     "inputWidgets": {},
     "nuid": "48339313-700d-418c-a597-2d48f4111e71",
     "showTitle": false,
     "title": ""
    }
   },
   "source": [
    "### Inspect Single Database Results\n",
    "There are two types of results stored. \"grants\" and \"objects\"."
   ]
  },
  {
   "cell_type": "code",
   "execution_count": null,
   "metadata": {
    "application/vnd.databricks.v1+cell": {
     "cellMetadata": {
      "byteLimit": 2048000,
      "rowLimit": 10000
     },
     "inputWidgets": {},
     "nuid": "3fc7bac7-fb05-4788-bc92-4653bab06d9d",
     "showTitle": false,
     "title": ""
    }
   },
   "outputs": [],
   "source": [
    "#the \"grants\" result type lists out each non-inherited grant on the database and its tables and views.\n",
    "db_grants = collector.get_last_results('grants', whichDatabase)\n",
    "display(db_grants)"
   ]
  },
  {
   "cell_type": "code",
   "execution_count": null,
   "metadata": {
    "application/vnd.databricks.v1+cell": {
     "cellMetadata": {
      "byteLimit": 2048000,
      "rowLimit": 10000
     },
     "inputWidgets": {},
     "nuid": "18855c1d-05df-40d9-afcd-f3011ad65148",
     "showTitle": false,
     "title": ""
    }
   },
   "outputs": [],
   "source": [
    "#the \"objects\" lists out each table and view, along with its type (managed, external, or view). If there was an error retrieving details, the error is stored. For a view the DDL is saved too.\n",
    "db_objects = collector.get_last_results('objects', whichDatabase)\n",
    "display(db_objects)"
   ]
  },
  {
   "cell_type": "code",
   "execution_count": null,
   "metadata": {
    "application/vnd.databricks.v1+cell": {
     "cellMetadata": {
      "byteLimit": 2048000,
      "rowLimit": 10000
     },
     "inputWidgets": {},
     "nuid": "088b35fc-9108-4588-aeed-47f0c916857a",
     "showTitle": false,
     "title": ""
    }
   },
   "outputs": [],
   "source": [
    "#You can futher aggregate the results as well\n",
    "display(db_objects.groupBy('objectType').count())"
   ]
  },
  {
   "attachments": {},
   "cell_type": "markdown",
   "metadata": {},
   "source": [
    "### Look at most recent collected grants using SQL"
   ]
  },
  {
   "cell_type": "code",
   "execution_count": null,
   "metadata": {},
   "outputs": [],
   "source": [
    "%sql\n",
    "WITH ranked_grants AS (\n",
    "  SELECT *,\n",
    "    RANK() OVER (PARTITION BY source_database ORDER BY execution_time DESC) as rank\n",
    "  FROM hive_metastore.databricks_inventory.grant_statements\n",
    ")\n",
    "SELECT ObjectType, ActionType, ObjectKey, Principal, grant_statement\n",
    "FROM ranked_grants\n",
    "WHERE rank = 1\n",
    "order by source_database, ObjectType, ObjectKey"
   ]
  },
  {
   "cell_type": "markdown",
   "metadata": {
    "application/vnd.databricks.v1+cell": {
     "cellMetadata": {},
     "inputWidgets": {},
     "nuid": "2e9e479e-305d-4fa8-9496-7145df4b434d",
     "showTitle": false,
     "title": ""
    }
   },
   "source": [
    "## Resetting State\n",
    "Upon making changes to the scanning code, you may need to reset the state. Uncomment the following cell to do so:"
   ]
  },
  {
   "cell_type": "code",
   "execution_count": null,
   "metadata": {
    "application/vnd.databricks.v1+cell": {
     "cellMetadata": {},
     "inputWidgets": {},
     "nuid": "f74469c5-19bb-42f6-bde3-e8c0705dab83",
     "showTitle": false,
     "title": ""
    }
   },
   "outputs": [],
   "source": [
    "# collector.resetAllData()"
   ]
  },
  {
   "attachments": {},
   "cell_type": "markdown",
   "metadata": {},
   "source": [
    "## Generating DDL"
   ]
  },
  {
   "cell_type": "code",
   "execution_count": null,
   "metadata": {},
   "outputs": [],
   "source": [
    "selectedDatabase = dbutils.widgets.get(\"HMS_Database\")\n",
    "destCatalog = dbutils.widgets.get(\"Migration_Catalog\")\n",
    "\n",
    "(ddl_objects, ddl_grants) = collector.generate_migration_ddl(selectedDatabase, destCatalog)\n",
    "\n",
    "print(\"Finished Generation of both object and grant DDL\")\n",
    "print(';\\n\\n'.join(ddl_objects))\n",
    "print(';\\n\\n'.join(ddl_grants))"
   ]
  },
  {
   "cell_type": "code",
   "execution_count": null,
   "metadata": {},
   "outputs": [],
   "source": [
    "# Execute the above using \n",
    "# collector.execute_sql_list(ddl_objects)\n",
    "# collector.execute_sql_list(ddl_grants)"
   ]
  },
  {
   "cell_type": "code",
   "execution_count": null,
   "metadata": {},
   "outputs": [],
   "source": []
  }
 ],
 "metadata": {
  "application/vnd.databricks.v1+notebook": {
   "dashboards": [],
   "language": "python",
   "notebookMetadata": {
    "pythonIndentUnit": 4
   },
   "notebookName": "InventoryCollector Invocation",
   "notebookOrigID": 4244592547227860,
   "widgets": {}
  },
  "language_info": {
   "name": "python"
  }
 },
 "nbformat": 4,
 "nbformat_minor": 0
}
