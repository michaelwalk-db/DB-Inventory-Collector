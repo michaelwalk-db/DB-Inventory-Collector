{
 "cells": [
  {
   "attachments": {},
   "cell_type": "markdown",
   "metadata": {
    "application/vnd.databricks.v1+cell": {
     "cellMetadata": {},
     "inputWidgets": {},
     "nuid": "54e917c5-d1e6-4e16-88ac-45f199f240ba",
     "showTitle": false,
     "title": ""
    }
   },
   "source": [
    "# Migrate Single Database\n"
   ]
  },
  {
   "attachments": {},
   "cell_type": "markdown",
   "metadata": {},
   "source": [
    "# Initialization\n",
    "You will have to run all 3 code cells in this section each time you reconnect to the cluster."
   ]
  },
  {
   "cell_type": "markdown",
   "metadata": {
    "application/vnd.databricks.v1+cell": {
     "cellMetadata": {},
     "inputWidgets": {},
     "nuid": "aa117d25-74eb-4b86-bb07-69978556ea86",
     "showTitle": false,
     "title": ""
    }
   },
   "source": [
    "## Widget Setup\n",
    "This notebook uses widgets to initialize the InventoryCollector as well as help scan a particular database easily."
   ]
  },
  {
   "cell_type": "code",
   "execution_count": null,
   "metadata": {
    "application/vnd.databricks.v1+cell": {
     "cellMetadata": {
      "byteLimit": 2048000,
      "rowLimit": 10000
     },
     "inputWidgets": {},
     "nuid": "36ce1b40-d416-4ad5-8981-1622bd68dca0",
     "showTitle": false,
     "title": ""
    }
   },
   "outputs": [],
   "source": [
    "try:\n",
    "    spark.sql('use catalog hive_metastore;')\n",
    "except Exception as e:\n",
    "    pass\n",
    "\n",
    "hmsDatabaseList = [row.databaseName for row in spark.sql('show databases').select('databaseName').collect()]\n",
    "if len('hmsDatabaseList') > 1024:\n",
    "    print('Warning! More than 1024 HMS databases. Picker widget will only display first 1024')\n",
    "dbutils.widgets.dropdown(\"HMS_Database\", hmsDatabaseList[0], hmsDatabaseList[0:1023], \"HMS Database\");\n",
    "dbutils.widgets.text(\"Inventory_Catalog\",   \"hive_metastore\", \"Write Catalog for Inventory\")\n",
    "dbutils.widgets.text(\"Inventory_Database\",   \"databricks_inventory\", \"Write Database for Inventory\")\n",
    "dbutils.widgets.text(\"Migration_Catalog\", \"DEST_CATALOG_HERE\", \"Migration Target Catalog\")\n",
    "\n",
    "print(\"Database list:\\n\")\n",
    "print('\\n'.join(hmsDatabaseList))"
   ]
  },
  {
   "attachments": {},
   "cell_type": "markdown",
   "metadata": {
    "application/vnd.databricks.v1+cell": {
     "cellMetadata": {},
     "inputWidgets": {},
     "nuid": "a261f4f6-8eec-411a-b4d9-f3fc740a87d3",
     "showTitle": false,
     "title": ""
    }
   },
   "source": [
    "## Import Collector Library\n",
    "Note: The usage of \"from ... import\" works expects a single .py file, as included from github.\n",
    "If you are not using github repos, create a notebook with the DbInventoryCollector.py file's contents in it, and change this line to read:\n",
    "`%run ./DB-Inventory-Collector`"
   ]
  },
  {
   "cell_type": "code",
   "execution_count": null,
   "metadata": {
    "application/vnd.databricks.v1+cell": {
     "cellMetadata": {
      "byteLimit": 2048000,
      "rowLimit": 10000
     },
     "inputWidgets": {},
     "nuid": "fa5ee101-0a71-4cbb-a4f4-4c253c3b79d1",
     "showTitle": false,
     "title": ""
    }
   },
   "outputs": [],
   "source": [
    "from DbInventoryCollector import InventoryCollector"
   ]
  },
  {
   "attachments": {},
   "cell_type": "markdown",
   "metadata": {},
   "source": [
    "\n",
    "## Create Collector\n",
    "We must initialize the collector with a location to store its data. The .initialize() method will create the schemas and tables for the data to be stored inside.\n",
    "Remember you will have to re-execute this cell every time the code for InventoryCollector is updated."
   ]
  },
  {
   "cell_type": "code",
   "execution_count": null,
   "metadata": {
    "application/vnd.databricks.v1+cell": {
     "cellMetadata": {
      "byteLimit": 2048000,
      "rowLimit": 10000
     },
     "inputWidgets": {},
     "nuid": "e0f1dfa6-2da4-4b3f-851d-1bffc1e6a71a",
     "showTitle": false,
     "title": ""
    }
   },
   "outputs": [],
   "source": [
    "#Initialize InventoryCollector\n",
    "collector = InventoryCollector(spark, dbutils.widgets.get(\"Inventory_Catalog\"), dbutils.widgets.get(\"Inventory_Database\"))\n",
    "collector.initialize()\n",
    "# display(collector.get_database_inventory_summary())"
   ]
  },
  {
   "attachments": {},
   "cell_type": "markdown",
   "metadata": {},
   "source": [
    "# Single Database Migration"
   ]
  },
  {
   "attachments": {},
   "cell_type": "markdown",
   "metadata": {},
   "source": [
    "## DDL Generation"
   ]
  },
  {
   "cell_type": "code",
   "execution_count": null,
   "metadata": {},
   "outputs": [],
   "source": [
    "selectedDatabase = dbutils.widgets.get(\"HMS_Database\")\n",
    "destCatalog = dbutils.widgets.get(\"Migration_Catalog\")\n",
    "\n",
    "if destCatalog == \"DEST_CATALOG_HERE\":\n",
    "    raise Exception(\"You must set the destination catalog using the widgets above\")\n",
    "\n",
    "(ddl_objects, ddl_grants) = collector.generate_migration_ddl(selectedDatabase, destCatalog)\n",
    "\n",
    "print(\"Finished Generation of both object and grant DDL\")"
   ]
  },
  {
   "attachments": {},
   "cell_type": "markdown",
   "metadata": {},
   "source": [
    "## Inspect Generated DDL"
   ]
  },
  {
   "cell_type": "code",
   "execution_count": null,
   "metadata": {},
   "outputs": [],
   "source": [
    "print(';\\n\\n'.join(ddl_objects))"
   ]
  },
  {
   "cell_type": "code",
   "execution_count": null,
   "metadata": {},
   "outputs": [],
   "source": [
    "print(';\\n\\n'.join(ddl_grants))"
   ]
  },
  {
   "attachments": {},
   "cell_type": "markdown",
   "metadata": {},
   "source": [
    "## Execute DDL"
   ]
  },
  {
   "cell_type": "code",
   "execution_count": null,
   "metadata": {},
   "outputs": [],
   "source": [
    "print(\"Executing Object Creation DDL\")\n",
    "collector.execute_sql_list(ddl_objects)\n",
    "print(\"Executing Grants\")\n",
    "collector.execute_sql_list(ddl_grants)"
   ]
  }
 ],
 "metadata": {
  "application/vnd.databricks.v1+notebook": {
   "dashboards": [],
   "language": "python",
   "notebookMetadata": {
    "pythonIndentUnit": 4
   },
   "notebookName": "InventoryCollector Invocation",
   "notebookOrigID": 4244592547227860,
   "widgets": {}
  },
  "language_info": {
   "name": "python"
  }
 },
 "nbformat": 4,
 "nbformat_minor": 0
}
