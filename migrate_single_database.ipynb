{
 "cells": [
  {
   "attachments": {},
   "cell_type": "markdown",
   "metadata": {
    "application/vnd.databricks.v1+cell": {
     "cellMetadata": {},
     "inputWidgets": {},
     "nuid": "54e917c5-d1e6-4e16-88ac-45f199f240ba",
     "showTitle": false,
     "title": ""
    }
   },
   "source": [
    "# Migrate Single Database\n"
   ]
  },
  {
   "attachments": {},
   "cell_type": "markdown",
   "metadata": {},
   "source": [
    "# Initialization\n",
    "You will have to both of the 2 code cells in this section each time you reconnect to the cluster."
   ]
  },
  {
   "attachments": {},
   "cell_type": "markdown",
   "metadata": {
    "application/vnd.databricks.v1+cell": {
     "cellMetadata": {},
     "inputWidgets": {},
     "nuid": "a261f4f6-8eec-411a-b4d9-f3fc740a87d3",
     "showTitle": false,
     "title": ""
    }
   },
   "source": [
    "## Import Collector Library\n",
    "Note: The usage of \"from ... import\" works expects a single .py file, as included from github.\n",
    "If you are not using github repos, create a notebook with the DbInventoryCollector.py file's contents in it, and change this line to read:\n",
    "\n",
    "```%run ./DB-Inventory-Collector```"
   ]
  },
  {
   "cell_type": "code",
   "execution_count": null,
   "metadata": {
    "application/vnd.databricks.v1+cell": {
     "cellMetadata": {
      "byteLimit": 2048000,
      "rowLimit": 10000
     },
     "inputWidgets": {},
     "nuid": "fa5ee101-0a71-4cbb-a4f4-4c253c3b79d1",
     "showTitle": false,
     "title": ""
    }
   },
   "outputs": [],
   "source": [
    "from DbInventoryCollector import InventoryCollector"
   ]
  },
  {
   "cell_type": "code",
   "execution_count": null,
   "metadata": {
    "application/vnd.databricks.v1+cell": {
     "cellMetadata": {
      "byteLimit": 2048000,
      "rowLimit": 10000
     },
     "inputWidgets": {},
     "nuid": "e0f1dfa6-2da4-4b3f-851d-1bffc1e6a71a",
     "showTitle": false,
     "title": ""
    }
   },
   "outputs": [],
   "source": [
    "InventoryCollector.CreateWidgets(dbutils, spark, reset=False)\n",
    "\n",
    "#Initialize InventoryCollector\n",
    "collector = InventoryCollector(spark, dbutils.widgets.get(\"Inventory_Catalog\"), dbutils.widgets.get(\"Inventory_Database\"))\n",
    "collector.initialize()"
   ]
  },
  {
   "attachments": {},
   "cell_type": "markdown",
   "metadata": {},
   "source": [
    "# Single Database Migration"
   ]
  },
  {
   "attachments": {},
   "cell_type": "markdown",
   "metadata": {},
   "source": [
    "## DDL Generation"
   ]
  },
  {
   "cell_type": "code",
   "execution_count": null,
   "metadata": {},
   "outputs": [],
   "source": [
    "sourceCatalog = dbutils.widgets.get(\"Scan_Catalog\")\n",
    "sourceDatabase = dbutils.widgets.get(\"Scan_Database\")\n",
    "destCatalog = dbutils.widgets.get(\"Migration_Catalog\")\n",
    "\n",
    "\n",
    "if destCatalog == \"ChangeMeToDest\":\n",
    "    raise Exception(\"You must set the destination catalog using the widgets above\")\n",
    "\n",
    "(ddl_objects, ddl_grants) = collector.generate_migration_ddl(sourceCatalog, sourceDatabase, destCatalog)\n",
    "\n",
    "print(\"Finished Generation of both object and grant DDL\")"
   ]
  },
  {
   "attachments": {},
   "cell_type": "markdown",
   "metadata": {},
   "source": [
    "## Inspect Generated DDL"
   ]
  },
  {
   "cell_type": "code",
   "execution_count": null,
   "metadata": {},
   "outputs": [],
   "source": [
    "print(';\\n\\n'.join(ddl_objects))"
   ]
  },
  {
   "cell_type": "code",
   "execution_count": null,
   "metadata": {},
   "outputs": [],
   "source": [
    "print(';\\n\\n'.join(ddl_grants))"
   ]
  },
  {
   "attachments": {},
   "cell_type": "markdown",
   "metadata": {},
   "source": [
    "## Execute DDL"
   ]
  },
  {
   "cell_type": "code",
   "execution_count": null,
   "metadata": {},
   "outputs": [],
   "source": [
    "print(\"Executing Object Creation DDL\")\n",
    "collector.execute_sql_list(ddl_objects)\n",
    "print(\"Executing Grants\")\n",
    "collector.execute_sql_list(ddl_grants)"
   ]
  }
 ],
 "metadata": {
  "application/vnd.databricks.v1+notebook": {
   "dashboards": [],
   "language": "python",
   "notebookMetadata": {
    "pythonIndentUnit": 4
   },
   "notebookName": "InventoryCollector Invocation",
   "notebookOrigID": 4244592547227860,
   "widgets": {}
  },
  "language_info": {
   "name": "python"
  }
 },
 "nbformat": 4,
 "nbformat_minor": 0
}
