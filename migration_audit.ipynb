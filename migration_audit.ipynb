{
 "cells": [
  {
   "cell_type": "markdown",
   "metadata": {
    "application/vnd.databricks.v1+cell": {
     "cellMetadata": {},
     "inputWidgets": {},
     "nuid": "54e917c5-d1e6-4e16-88ac-45f199f240ba",
     "showTitle": false,
     "title": ""
    }
   },
   "source": [
    "# Inventory Collector\n",
    "Collects data on database objects (tables and views) as well as grants on those objects.\n",
    "Saves all data to a delta table"
   ]
  },
  {
   "attachments": {},
   "cell_type": "markdown",
   "metadata": {},
   "source": [
    "# Initialization\n",
    "You will have to run both of these code cells in this section each time you reconnect to the cluster.\n",
    "\n",
    "Note: The usage of \"from ... import\" works expects a single .py file, as included from github.\n",
    "If you are not using github repos, create a notebook with the DbInventoryCollector.py file's contents in it, and change this line to read:\n",
    "\n",
    "```%run ./DB-Inventory-Collector```"
   ]
  },
  {
   "cell_type": "code",
   "execution_count": null,
   "metadata": {
    "application/vnd.databricks.v1+cell": {
     "cellMetadata": {
      "byteLimit": 2048000,
      "rowLimit": 10000
     },
     "inputWidgets": {},
     "nuid": "fa5ee101-0a71-4cbb-a4f4-4c253c3b79d1",
     "showTitle": false,
     "title": ""
    }
   },
   "outputs": [],
   "source": [
    "from DbInventoryCollector import InventoryCollector"
   ]
  },
  {
   "cell_type": "code",
   "execution_count": null,
   "metadata": {
    "application/vnd.databricks.v1+cell": {
     "cellMetadata": {
      "byteLimit": 2048000,
      "rowLimit": 10000
     },
     "inputWidgets": {},
     "nuid": "e0f1dfa6-2da4-4b3f-851d-1bffc1e6a71a",
     "showTitle": false,
     "title": ""
    }
   },
   "outputs": [],
   "source": [
    "from pyspark.sql.functions import *\n",
    "\n",
    "#Create Widgets\n",
    "InventoryCollector.CreateWidgets(dbutils, spark, reset=False)\n",
    "\n",
    "#Instantiate and initialize collector class\n",
    "collector = InventoryCollector(spark, dbutils.widgets.get(\"Inventory_Catalog\"), dbutils.widgets.get(\"Inventory_Database\"))\n",
    "collector.initialize()\n",
    "\n",
    "#This pulls out the widget values to a python variable.\n",
    "#Paste these lines into a cell to enable automatic execution on widget change\n",
    "destCatalog = dbutils.widgets.get(\"Migration_Catalog\")\n",
    "whichCatalog = dbutils.widgets.get(\"Scan_Catalog\")\n",
    "sourceDatabase = dbutils.widgets.get(\"Scan_Database\")"
   ]
  },
  {
   "attachments": {},
   "cell_type": "markdown",
   "metadata": {},
   "source": [
    "# Scanning Databases\n",
    "Generally you will first run these scan functions to record what objects exist."
   ]
  },
  {
   "attachments": {},
   "cell_type": "markdown",
   "metadata": {
    "application/vnd.databricks.v1+cell": {
     "cellMetadata": {},
     "inputWidgets": {},
     "nuid": "e5f98a4f-1ff7-49ee-b92d-7b505e39886a",
     "showTitle": false,
     "title": ""
    }
   },
   "source": [
    "## Scan of a single database\n",
    "Note that there are two types of scans : objects and grants.\n",
    "Each returns a pair of data: the execution id and the dataframe holding the scanned results.\n",
    "All past scans are saved to an append only table. The execution_id can help you retrieve the scan as of a certain time.\n",
    "\n",
    "With the widget code, this cell will automatically be re-run when you change the dropdown at the top."
   ]
  },
  {
   "cell_type": "code",
   "execution_count": null,
   "metadata": {
    "application/vnd.databricks.v1+cell": {
     "cellMetadata": {
      "byteLimit": 2048000,
      "rowLimit": 10000
     },
     "inputWidgets": {},
     "nuid": "ec017c2b-108e-47fd-8b0a-14ab09148b63",
     "showTitle": false,
     "title": ""
    }
   },
   "outputs": [],
   "source": [
    "(exec_id_objects, objectDF) = collector.scan_database_objects(whichCatalog, sourceDatabase)\n",
    "print(f\"Finished scanning objects for {whichCatalog}.{sourceDatabase}. ObjectExId: {exec_id_objects} \")\n",
    "display(objectDF)"
   ]
  },
  {
   "cell_type": "code",
   "execution_count": null,
   "metadata": {},
   "outputs": [],
   "source": [
    "(exec_id_grants, grantDF) = collector.scan_database_grants(whichCatalog, sourceDatabase)\n",
    "print(f\"Finished scanning grants for {whichCatalog}.{sourceDatabase}. GrantExId: {exec_id_grants}\")\n",
    "display(grantDF)"
   ]
  },
  {
   "attachments": {},
   "cell_type": "markdown",
   "metadata": {},
   "source": [
    "## Scan All Catalog Functions\n",
    "Note: this is a bit of a WIP"
   ]
  },
  {
   "cell_type": "code",
   "execution_count": null,
   "metadata": {},
   "outputs": [],
   "source": [
    "collector.scan_catalog_functions(whichCatalog)"
   ]
  },
  {
   "cell_type": "markdown",
   "metadata": {
    "application/vnd.databricks.v1+cell": {
     "cellMetadata": {},
     "inputWidgets": {},
     "nuid": "1d6680a6-9692-4238-8b0e-c41bf6ba0403",
     "showTitle": false,
     "title": ""
    }
   },
   "source": [
    "## Scan All Databases in Catalog\n",
    "Automatically list and scan all databases.\n",
    "\n",
    "**Parameters:**\n",
    "*rescan* -- If true, will re-scan a database even if inventory data already exists for it. If false, duplicate databases will be skipped. Default: False"
   ]
  },
  {
   "cell_type": "code",
   "execution_count": null,
   "metadata": {
    "application/vnd.databricks.v1+cell": {
     "cellMetadata": {
      "byteLimit": 2048000,
      "rowLimit": 10000
     },
     "inputWidgets": {},
     "nuid": "cced84cf-1c93-472d-8f9f-0b79c47e87c8",
     "showTitle": false,
     "title": ""
    }
   },
   "outputs": [],
   "source": [
    "# collector.scan_all_databases(whichCatalog, rescan = False)"
   ]
  },
  {
   "attachments": {},
   "cell_type": "markdown",
   "metadata": {
    "application/vnd.databricks.v1+cell": {
     "cellMetadata": {},
     "inputWidgets": {},
     "nuid": "313701ff-def5-46bc-a238-148cab0a4d65",
     "showTitle": false,
     "title": ""
    }
   },
   "source": [
    "# Results Inspection"
   ]
  },
  {
   "attachments": {},
   "cell_type": "markdown",
   "metadata": {
    "application/vnd.databricks.v1+cell": {
     "cellMetadata": {},
     "inputWidgets": {},
     "nuid": "6a9f783f-98af-4987-b38f-e5690cc68cf0",
     "showTitle": false,
     "title": ""
    }
   },
   "source": [
    "## Summary of past executions"
   ]
  },
  {
   "cell_type": "code",
   "execution_count": null,
   "metadata": {
    "application/vnd.databricks.v1+cell": {
     "cellMetadata": {
      "byteLimit": 2048000,
      "rowLimit": 10000
     },
     "inputWidgets": {},
     "nuid": "9d84ee29-5221-4eb5-b046-0550f329bdc0",
     "showTitle": false,
     "title": ""
    }
   },
   "outputs": [],
   "source": [
    "display(collector.get_execution_history())"
   ]
  },
  {
   "cell_type": "markdown",
   "metadata": {
    "application/vnd.databricks.v1+cell": {
     "cellMetadata": {},
     "inputWidgets": {},
     "nuid": "b75f54c2-633c-4389-a5b3-dd6d53b095eb",
     "showTitle": false,
     "title": ""
    }
   },
   "source": [
    "## Summary of all databases"
   ]
  },
  {
   "cell_type": "code",
   "execution_count": null,
   "metadata": {
    "application/vnd.databricks.v1+cell": {
     "cellMetadata": {
      "byteLimit": 2048000,
      "rowLimit": 10000
     },
     "inputWidgets": {},
     "nuid": "84182ba2-0176-4534-a0ea-2872fb4524db",
     "showTitle": false,
     "title": ""
    }
   },
   "outputs": [],
   "source": [
    "dbSummary = collector.get_database_inventory_summary(whichCatalog)\n",
    "display(dbSummary)"
   ]
  },
  {
   "attachments": {},
   "cell_type": "markdown",
   "metadata": {
    "application/vnd.databricks.v1+cell": {
     "cellMetadata": {},
     "inputWidgets": {},
     "nuid": "48339313-700d-418c-a597-2d48f4111e71",
     "showTitle": false,
     "title": ""
    }
   },
   "source": [
    "## Inspect Single Database Results\n",
    "There are two types of results stored. \"grants\" and \"objects\"."
   ]
  },
  {
   "cell_type": "code",
   "execution_count": null,
   "metadata": {
    "application/vnd.databricks.v1+cell": {
     "cellMetadata": {
      "byteLimit": 2048000,
      "rowLimit": 10000
     },
     "inputWidgets": {},
     "nuid": "3fc7bac7-fb05-4788-bc92-4653bab06d9d",
     "showTitle": false,
     "title": ""
    }
   },
   "outputs": [],
   "source": [
    "#the \"grants\" result type lists out each non-inherited grant on the database and its tables and views.\n",
    "db_grants = collector.get_last_results('grants', whichCatalog, sourceDatabase)\n",
    "display(db_grants)"
   ]
  },
  {
   "cell_type": "code",
   "execution_count": null,
   "metadata": {
    "application/vnd.databricks.v1+cell": {
     "cellMetadata": {
      "byteLimit": 2048000,
      "rowLimit": 10000
     },
     "inputWidgets": {},
     "nuid": "18855c1d-05df-40d9-afcd-f3011ad65148",
     "showTitle": false,
     "title": ""
    }
   },
   "outputs": [],
   "source": [
    "#the \"objects\" lists out each table and view, along with its type (managed, external, or view). If there was an error retrieving details, the error is stored. For a view the DDL is saved too.\n",
    "db_objects = collector.get_last_results('objects', whichCatalog, sourceDatabase)\n",
    "display(db_objects)"
   ]
  },
  {
   "cell_type": "code",
   "execution_count": null,
   "metadata": {
    "application/vnd.databricks.v1+cell": {
     "cellMetadata": {
      "byteLimit": 2048000,
      "rowLimit": 10000
     },
     "inputWidgets": {},
     "nuid": "088b35fc-9108-4588-aeed-47f0c916857a",
     "showTitle": false,
     "title": ""
    }
   },
   "outputs": [],
   "source": [
    "#You can futher aggregate the results as well\n",
    "display(db_objects.groupBy('objectType').count())"
   ]
  },
  {
   "attachments": {},
   "cell_type": "markdown",
   "metadata": {},
   "source": [
    "## Look at most recent collected grants using SQL"
   ]
  },
  {
   "cell_type": "code",
   "execution_count": null,
   "metadata": {},
   "outputs": [],
   "source": [
    "%sql\n",
    "WITH ranked_grants AS (\n",
    "  SELECT *,\n",
    "    RANK() OVER (PARTITION BY source_database ORDER BY execution_time DESC) as rank\n",
    "  FROM hive_metastore.databricks_inventory.grant_statements\n",
    ")\n",
    "SELECT ObjectType, ActionType, ObjectKey, Principal, grant_statement\n",
    "FROM ranked_grants\n",
    "WHERE rank = 1\n",
    "order by source_database, ObjectType, ObjectKey"
   ]
  },
  {
   "attachments": {},
   "cell_type": "markdown",
   "metadata": {},
   "source": [
    "## Compare DEV and HIVE catalogs for missing tables"
   ]
  },
  {
   "cell_type": "code",
   "execution_count": null,
   "metadata": {},
   "outputs": [],
   "source": [
    "# Run summary of both catalogs and save to variables\n",
    "dbSummary_hive = collector.get_database_inventory_summary(\"hive_metastore\")\n",
    "dbSummary_dev = collector.get_database_inventory_summary(\"dev\")"
   ]
  },
  {
   "cell_type": "code",
   "execution_count": null,
   "metadata": {},
   "outputs": [],
   "source": [
    "dbSummary_hive_prefixed = dbSummary_hive.select([col(colName).alias(f'hive_{colName}') for colName in dbSummary_hive.columns])\n",
    "dbSummary_dev_prefixed = dbSummary_dev.select([col(colName).alias(f'dev_{colName}') for colName in dbSummary_dev.columns])\n",
    "summary_compare = dbSummary_hive_prefixed.join(dbSummary_dev_prefixed, dbSummary_hive_prefixed['hive_database'] == dbSummary_dev_prefixed['dev_database'], how = \"full_outer\")\n",
    "\n",
    "#display(summary_compare)"
   ]
  },
  {
   "cell_type": "code",
   "execution_count": null,
   "metadata": {},
   "outputs": [],
   "source": [
    "compare_short = summary_compare.select(\n",
    "\n",
    "'hive_database',\n",
    "\"hive_object_last_execution_id\", \"dev_object_last_execution_id\",\n",
    "'HIVE_ERROR', 'DEV_ERROR', (col('HIVE_ERROR') - col('DEV_ERROR')).alias(\"DIFF_ERROR\"),\n",
    "'HIVE_EXTERNAL', 'DEV_EXTERNAL', (col('HIVE_EXTERNAL') - col('DEV_EXTERNAL')).alias(\"DIFF_EXTERNAL\"),\n",
    "'HIVE_MANAGED', 'DEV_MANAGED', (col('HIVE_MANAGED') - col('DEV_MANAGED')).alias(\"DIFF_MANAGED\"),\n",
    "'HIVE_VIEW', 'DEV_VIEW', (col('HIVE_VIEW') - col('DEV_VIEW')).alias(\"DIFF_VIEW\")\n",
    ")\n",
    "\n",
    "\n",
    "display(compare_short.filter(\"DIFF_ERROR != 0 OR DIFF_EXTERNAL != 0 OR DIFF_MANAGED != 0 OR DIFF_VIEW != 0\"))"
   ]
  },
  {
   "attachments": {},
   "cell_type": "markdown",
   "metadata": {},
   "source": [
    "## Pull list of Source Tables with Scan Errors\n",
    "These tables won't be attempted to migrate\n",
    "There are two common errors here seen so far:\n",
    "1. External location does not exist\n",
    "2. "
   ]
  },
  {
   "cell_type": "code",
   "execution_count": null,
   "metadata": {},
   "outputs": [],
   "source": [
    "allErrors = None\n",
    "for exec_id in [r.hive_object_last_execution_id for r in compare_short.filter(\"HIVE_ERROR > 0\").collect()]:\n",
    "    newErrors = collector.get_results_by_execution_id(exec_id).select([\"source_catalog\", \"source_database\", \"table\", \"errMsg\"]).filter('objectType == \"ERROR\"')\n",
    "    if allErrors is None:\n",
    "        allErrors = newErrors\n",
    "    else:\n",
    "        allErrors = allErrors.union(newErrors)\n",
    "display(allErrors)"
   ]
  },
  {
   "cell_type": "code",
   "execution_count": null,
   "metadata": {},
   "outputs": [],
   "source": [
    "allHiveObjects = None\n",
    "for exec_id in [r.hive_object_last_execution_id for r in compare_short.filter(\"DIFF_EXTERNAL > 0 OR DIFF_MANAGED > 0 OR DIFF_VIEW > 0\").collect()]:\n",
    "    newMissing = collector.get_results_by_execution_id(exec_id).select([\"source_catalog\", \"source_database\", \"objectType\", \"table\"]).filter('objectType != \"ERROR\"')\n",
    "    if allHiveObjects is None:\n",
    "        allHiveObjects = newMissing\n",
    "    else:\n",
    "        allHiveObjects = allHiveObjects.union(newMissing)\n",
    "display(allHiveObjects)\n",
    "\n",
    "\n",
    "allDestObjects = None\n",
    "for exec_id in [r.hive_object_last_execution_id for r in compare_short.filter(\"DIFF_EXTERNAL > 0 OR DIFF_MANAGED > 0 OR DIFF_VIEW > 0\").collect()]:\n",
    "    newMissing = collector.get_results_by_execution_id(exec_id).select([\"source_catalog\", \"source_database\", \"objectType\", \"table\"]).filter('objectType != \"ERROR\"')\n",
    "    if allDestObjects is None:\n",
    "        allDestObjects = newMissing\n",
    "    else:\n",
    "        allDestObjects = allDestObjects.union(newMissing)\n",
    "display(allDestObjects)"
   ]
  },
  {
   "cell_type": "code",
   "execution_count": null,
   "metadata": {},
   "outputs": [],
   "source": [
    "collector.setStorageCatalog()\n",
    "\n",
    "allGrants_hive = spark.sql(f\"\"\"\n",
    "WITH ranked_grants AS (\n",
    "  SELECT *,\n",
    "    RANK() OVER (PARTITION BY source_catalog, source_database ORDER BY execution_time DESC) as rank\n",
    "  FROM {collector.inventory_database}.grant_statements)\n",
    "SELECT source_database, ObjectType, ActionType, ObjectKey, Principal, grant_statement\n",
    "FROM ranked_grants\n",
    "WHERE source_catalog = \"hive_metastore\" AND rank = 1\n",
    "order by source_database, ObjectType, ObjectKey\n",
    "\"\"\")\n",
    "\n",
    "allGrants_dest = spark.sql(f\"\"\"\n",
    "WITH ranked_grants AS (\n",
    "  SELECT *,\n",
    "    RANK() OVER (PARTITION BY source_catalog, source_database ORDER BY execution_time DESC) as rank\n",
    "  FROM {collector.inventory_database}.grant_statements)\n",
    "SELECT source_database, ObjectType, ActionType, ObjectKey, Principal, grant_statement\n",
    "FROM ranked_grants\n",
    "WHERE source_catalog = \"{destCatalog}\" AND rank = 1\n",
    "order by source_database, ObjectType, ObjectKey\n",
    "\"\"\")\n",
    "\n",
    "joinColumns = [\"source_database\", \"Principal\", \"ActionType\", \"ObjectType\", \"ObjectKey\"]\n",
    "\n",
    "allGrants_hive = allGrants_hive.select(\"source_database\", \"Principal\", \"ObjectType\", \"ObjectKey\",\n",
    "when(col(\"ActionType\") == \"USAGE\", \"USE SCHEMA\")\n",
    ".otherwise(col(\"ActionType\")).alias(\"ActionType\")\n",
    ").filter('ActionType != \"READ_METADATA\" AND ActionType != \"OWN\"')\n",
    "#.when(col(\"ActionType\") == \"OWN\", \"ownership\") #Note: to add Just chain these after other .when\n",
    "\n",
    "grantCompare_both = allGrants_hive.join(allGrants_dest, joinColumns, how = \"inner\")\n",
    "grantCompare_hiveOnly = allGrants_hive.join(allGrants_dest, joinColumns, how = \"left_anti\")\n",
    "grantCompare_destOnly = allGrants_dest.join(allGrants_hive, joinColumns, how = \"left_anti\")\n"
   ]
  },
  {
   "cell_type": "code",
   "execution_count": null,
   "metadata": {},
   "outputs": [],
   "source": [
    "display(grantCompare_both)"
   ]
  },
  {
   "cell_type": "code",
   "execution_count": null,
   "metadata": {},
   "outputs": [],
   "source": [
    "display(grantCompare_hiveOnly)"
   ]
  },
  {
   "cell_type": "code",
   "execution_count": null,
   "metadata": {},
   "outputs": [],
   "source": [
    "display(grantCompare_hiveOnly.groupBy(\"ActionType\").count())\n",
    "#usage -- rename\n",
    "#select -- investigate\n",
    "#own --check table properties.\n",
    "#read metadata -- ignore"
   ]
  },
  {
   "cell_type": "code",
   "execution_count": null,
   "metadata": {},
   "outputs": [],
   "source": [
    "display(grantCompare_devOnly)"
   ]
  },
  {
   "cell_type": "code",
   "execution_count": null,
   "metadata": {},
   "outputs": [],
   "source": [
    "\n",
    "allGrants_hive = spark.sql(f\"\"\"\n",
    "WITH ranked_grants AS (\n",
    "  SELECT *,\n",
    "    RANK() OVER (PARTITION BY source_database ORDER BY execution_time DESC) as rank\n",
    "  FROM {inventory_catdb}.grant_statements\n",
    "SELECT ObjectType, ActionType, ObjectKey, Principal, grant_statement\n",
    "FROM ranked_grants\n",
    "WHERE source_catalog = \"hive_metastore\" AND rank = 1\n",
    "order by source_database, ObjectType, ObjectKey\n",
    "\"\"\")\n",
    "                           \n",
    "allGrants_dest = spark.sql(f\"\"\"\n",
    "WITH ranked_grants AS (\n",
    "  SELECT *,\n",
    "    RANK() OVER (PARTITION BY source_database ORDER BY execution_time DESC) as rank\n",
    "  FROM {inventory_catdb}.grant_statements\n",
    "SELECT ObjectType, ActionType, ObjectKey, Principal, grant_statement\n",
    "FROM ranked_grants\n",
    "WHERE source_catalog = \"{destCatalog}\" AND rank = 1\n",
    "order by source_database, ObjectType, ObjectKey\n",
    "\"\"\")"
   ]
  }
 ],
 "metadata": {
  "application/vnd.databricks.v1+notebook": {
   "dashboards": [],
   "language": "python",
   "notebookMetadata": {
    "pythonIndentUnit": 4
   },
   "notebookName": "InventoryCollector Invocation",
   "notebookOrigID": 4244592547227860,
   "widgets": {}
  },
  "language_info": {
   "name": "python"
  }
 },
 "nbformat": 4,
 "nbformat_minor": 0
}
