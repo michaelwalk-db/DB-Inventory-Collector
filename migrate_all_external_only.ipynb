{
 "cells": [
  {
   "attachments": {},
   "cell_type": "markdown",
   "metadata": {
    "application/vnd.databricks.v1+cell": {
     "cellMetadata": {},
     "inputWidgets": {},
     "nuid": "54e917c5-d1e6-4e16-88ac-45f199f240ba",
     "showTitle": false,
     "title": ""
    }
   },
   "source": [
    "# Bulk Non-Managed Database Migration\n",
    "\n",
    "1. Initialization\n",
    "2. Catalog Scan\n",
    "3. Bulk Migration"
   ]
  },
  {
   "attachments": {},
   "cell_type": "markdown",
   "metadata": {},
   "source": [
    "# Initialization\n",
    "Run all cells in this initialization section each time we re attach to the cluster"
   ]
  },
  {
   "cell_type": "code",
   "execution_count": null,
   "metadata": {
    "application/vnd.databricks.v1+cell": {
     "cellMetadata": {
      "byteLimit": 2048000,
      "rowLimit": 10000
     },
     "inputWidgets": {},
     "nuid": "fa5ee101-0a71-4cbb-a4f4-4c253c3b79d1",
     "showTitle": false,
     "title": ""
    }
   },
   "outputs": [],
   "source": [
    "# Change this line to a %run if you're not using DB Repos to import the code\n",
    "from DbInventoryCollector import InventoryCollector"
   ]
  },
  {
   "cell_type": "code",
   "execution_count": null,
   "metadata": {
    "application/vnd.databricks.v1+cell": {
     "cellMetadata": {
      "byteLimit": 2048000,
      "rowLimit": 10000
     },
     "inputWidgets": {},
     "nuid": "e0f1dfa6-2da4-4b3f-851d-1bffc1e6a71a",
     "showTitle": false,
     "title": ""
    }
   },
   "outputs": [],
   "source": [
    "#Create widgets\n",
    "InventoryCollector.CreateWidgets(dbutils, spark, reset=False)\n",
    "\n",
    "#Initialize InventoryCollector\n",
    "collector = InventoryCollector(spark, dbutils.widgets.get(\"Inventory_Catalog\"), dbutils.widgets.get(\"Inventory_Database\"))\n",
    "collector.initialize()\n",
    "\n",
    "sourceCatalog = dbutils.widgets.get(\"Scan_Catalog\")\n",
    "destCatalog = dbutils.widgets.get(\"Migration_Catalog\")"
   ]
  },
  {
   "attachments": {},
   "cell_type": "markdown",
   "metadata": {
    "application/vnd.databricks.v1+cell": {
     "cellMetadata": {},
     "inputWidgets": {},
     "nuid": "1d6680a6-9692-4238-8b0e-c41bf6ba0403",
     "showTitle": false,
     "title": ""
    }
   },
   "source": [
    "# Inventory Collection\n"
   ]
  },
  {
   "attachments": {},
   "cell_type": "markdown",
   "metadata": {},
   "source": [
    "## Auto Scan All Databases\n",
    "Automatically list and scan all databases.\n",
    "\n",
    "**Parameters:**\n",
    "*rescan* -- If true, will re-scan a database even if inventory data already exists for it. If false, duplicate databases will be skipped. Default: False"
   ]
  },
  {
   "cell_type": "code",
   "execution_count": null,
   "metadata": {
    "application/vnd.databricks.v1+cell": {
     "cellMetadata": {
      "byteLimit": 2048000,
      "rowLimit": 10000
     },
     "inputWidgets": {},
     "nuid": "cced84cf-1c93-472d-8f9f-0b79c47e87c8",
     "showTitle": false,
     "title": ""
    }
   },
   "outputs": [],
   "source": [
    "collector.scan_all_databases(sourceCatalog, rescan = False)"
   ]
  },
  {
   "attachments": {},
   "cell_type": "markdown",
   "metadata": {
    "application/vnd.databricks.v1+cell": {
     "cellMetadata": {},
     "inputWidgets": {},
     "nuid": "b75f54c2-633c-4389-a5b3-dd6d53b095eb",
     "showTitle": false,
     "title": ""
    }
   },
   "source": [
    "## Summary of all databases"
   ]
  },
  {
   "cell_type": "code",
   "execution_count": null,
   "metadata": {
    "application/vnd.databricks.v1+cell": {
     "cellMetadata": {
      "byteLimit": 2048000,
      "rowLimit": 10000
     },
     "inputWidgets": {},
     "nuid": "84182ba2-0176-4534-a0ea-2872fb4524db",
     "showTitle": false,
     "title": ""
    }
   },
   "outputs": [],
   "source": [
    "database_summary = collector.get_database_inventory_summary(sourceCatalog)\n",
    "display(database_summary)"
   ]
  },
  {
   "attachments": {},
   "cell_type": "markdown",
   "metadata": {
    "application/vnd.databricks.v1+cell": {
     "cellMetadata": {},
     "inputWidgets": {},
     "nuid": "618ab48c-a37e-4e0c-89ba-f8c3540b8904",
     "showTitle": false,
     "title": ""
    }
   },
   "source": [
    "# Migration Execution"
   ]
  },
  {
   "attachments": {},
   "cell_type": "markdown",
   "metadata": {},
   "source": [
    "## Filter database list to non-managed"
   ]
  },
  {
   "cell_type": "code",
   "execution_count": null,
   "metadata": {
    "application/vnd.databricks.v1+cell": {
     "cellMetadata": {
      "byteLimit": 2048000,
      "rowLimit": 10000
     },
     "inputWidgets": {},
     "nuid": "ed642870-4c0e-4caf-8d0c-9a07e0fa2925",
     "showTitle": false,
     "title": ""
    }
   },
   "outputs": [],
   "source": [
    "safeDatabases = [s.database for s in database_summary.filter(\"MANAGED=0 and ERROR = 0\").collect()]\n",
    "print(f\"{len(safeDatabases)} have 0 managed tables and 0 errors\")\n",
    "print(safeDatabases)"
   ]
  },
  {
   "attachments": {},
   "cell_type": "markdown",
   "metadata": {},
   "source": [
    "## Generate and Execute all Migration DDL"
   ]
  },
  {
   "cell_type": "code",
   "execution_count": null,
   "metadata": {
    "application/vnd.databricks.v1+cell": {
     "cellMetadata": {
      "byteLimit": 2048000,
      "rowLimit": 10000
     },
     "inputWidgets": {},
     "nuid": "fa20fede-f63c-4185-bb51-87a8edbb5ee0",
     "showTitle": false,
     "title": ""
    }
   },
   "outputs": [],
   "source": [
    "if destCatalog == \"ChangeMeToDest\" or destCatalog is None:\n",
    "    raise Exception(\"Migration_Catalog not set. Set the destination catalog using the widgets at the top of the screen\")\n",
    "\n",
    "database_summary = collector.get_database_inventory_summary()\n",
    "safeDatabases = [s.database for s in database_summary.filter(\"MANAGED=0 and ERROR = 0\").collect()]\n",
    "destCatalog = dbutils.widgets.get(\"Migration_Catalog\")\n",
    "\n",
    "for db in safeDatabases:\n",
    "    (ddl_objects, ddl_grants) = collector.generate_migration_ddl(sourceCatalog, db, destCatalog)\n",
    "\n",
    "    print(\"Finished Generation of both object and grant DDL\")\n",
    "    # print(';\\n\\n'.join(ddl_objects))\n",
    "    # print(';\\n\\n'.join(ddl_grants))\n",
    "\n",
    "    print(f\"\\n\\n****\\nStarting Execution for db {db}\\n***\")\n",
    "    collector.execute_sql_list(ddl_objects)\n",
    "    collector.execute_sql_list(ddl_grants)"
   ]
  }
 ],
 "metadata": {
  "application/vnd.databricks.v1+notebook": {
   "dashboards": [],
   "language": "python",
   "notebookMetadata": {
    "pythonIndentUnit": 2
   },
   "notebookName": "collector_execution",
   "notebookOrigID": 4244592547259496,
   "widgets": {}
  },
  "language_info": {
   "name": "python"
  }
 },
 "nbformat": 4,
 "nbformat_minor": 0
}
